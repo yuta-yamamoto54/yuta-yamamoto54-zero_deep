{
 "cells": [
  {
   "cell_type": "code",
   "execution_count": 9,
   "metadata": {},
   "outputs": [],
   "source": [
    "# coding: utf-8\n",
    "import sys, os\n",
    "sys.path.append(os.pardir)  # 親ディレクトリのファイルをインポートするための設定\n",
    "import numpy as np\n",
    "import matplotlib.pyplot as plt\n",
    "from dataset.mnist import load_mnist\n",
    "from common.multi_layer_net_extend import MultiLayerNetExtend\n",
    "from common.util import shuffle_dataset\n",
    "from common.trainer import Trainer"
   ]
  },
  {
   "cell_type": "code",
   "execution_count": 10,
   "metadata": {},
   "outputs": [],
   "source": [
    "(x_train, t_train), (x_test, t_test) = load_mnist(normalize=True)"
   ]
  },
  {
   "cell_type": "code",
   "execution_count": 11,
   "metadata": {},
   "outputs": [],
   "source": [
    "# 高速化のため訓練データの削減\n",
    "x_train = x_train[:500]\n",
    "t_train = t_train[:500]"
   ]
  },
  {
   "cell_type": "code",
   "execution_count": 12,
   "metadata": {},
   "outputs": [],
   "source": [
    "# 検証データの分離\n",
    "validation_rate = 0.20\n",
    "validation_num = int(x_train.shape[0] * validation_rate)\n",
    "x_train, t_train = shuffle_dataset(x_train, t_train)\n",
    "x_val = x_train[:validation_num]\n",
    "t_val = t_train[:validation_num]\n",
    "x_train = x_train[validation_num:]\n",
    "t_train = t_train[validation_num:]"
   ]
  },
  {
   "cell_type": "code",
   "execution_count": 14,
   "metadata": {},
   "outputs": [],
   "source": [
    "def __train(lr, weight_decay, epocs=50):\n",
    "    network = MultiLayerNetExtend(input_size=784, hidden_size_list=[100, 100, 100, 100, 100, 100],\n",
    "                            output_size=10, weight_decay_lambda=weight_decay)\n",
    "    trainer = Trainer(network, x_train, t_train, x_val, t_val,\n",
    "                      epochs=epocs, mini_batch_size=100,\n",
    "                      optimizer='sgd', optimizer_param={'lr': lr}, verbose=False)\n",
    "    trainer.train()\n",
    "\n",
    "    return trainer.test_acc_list, trainer.train_acc_list"
   ]
  },
  {
   "cell_type": "code",
   "execution_count": 15,
   "metadata": {
    "collapsed": true,
    "jupyter": {
     "outputs_hidden": true
    }
   },
   "outputs": [
    {
     "name": "stdout",
     "output_type": "stream",
     "text": [
      "val acc:0.1 | lr:5.711421804060171e-05, weight decay:1.5670707173938377e-06\n",
      "val acc:0.06 | lr:2.1778294196424057e-06, weight decay:3.826765774094029e-05\n",
      "val acc:0.17 | lr:0.0008635266635936379, weight decay:4.726354560271169e-05\n",
      "val acc:0.13 | lr:0.00012595561692751485, weight decay:3.387206954530082e-05\n",
      "val acc:0.09 | lr:1.0065123937528196e-06, weight decay:6.017674617016467e-08\n",
      "val acc:0.22 | lr:0.002422865872621091, weight decay:4.6099397111860484e-07\n",
      "val acc:0.77 | lr:0.007614525932290578, weight decay:1.4977903571667184e-08\n",
      "val acc:0.09 | lr:6.927190823499106e-05, weight decay:8.821267769166093e-05\n",
      "val acc:0.81 | lr:0.009289572967553431, weight decay:1.740763692341469e-06\n",
      "val acc:0.14 | lr:5.070632784541754e-05, weight decay:2.2518301898026313e-05\n",
      "val acc:0.11 | lr:2.9114894612501052e-05, weight decay:3.092500719429554e-07\n",
      "val acc:0.11 | lr:3.36379387408178e-05, weight decay:2.26904468583445e-06\n",
      "val acc:0.05 | lr:2.1345020029358748e-06, weight decay:1.3904762691672321e-05\n",
      "val acc:0.15 | lr:0.00037056910895880206, weight decay:3.67054890941478e-06\n",
      "val acc:0.44 | lr:0.0021854756522117665, weight decay:7.638878938008736e-08\n",
      "val acc:0.13 | lr:0.000338252509744042, weight decay:2.820263622871646e-06\n",
      "val acc:0.06 | lr:6.17894117966497e-06, weight decay:4.8975341457993685e-06\n",
      "val acc:0.08 | lr:4.219308236134077e-06, weight decay:6.033039882720138e-07\n",
      "val acc:0.11 | lr:9.896068769204495e-05, weight decay:8.495443722489106e-08\n",
      "val acc:0.15 | lr:1.546855247655118e-05, weight decay:5.376922657519487e-06\n",
      "val acc:0.76 | lr:0.0098758642485949, weight decay:4.452301939546693e-08\n",
      "val acc:0.2 | lr:0.0019001435191576964, weight decay:1.8329362901270768e-08\n",
      "val acc:0.08 | lr:0.0002647975469156321, weight decay:6.578087931903562e-08\n",
      "val acc:0.06 | lr:1.7869087177976208e-06, weight decay:1.3453425888168139e-05\n",
      "val acc:0.55 | lr:0.004692012035862498, weight decay:4.933629704785935e-06\n",
      "val acc:0.07 | lr:3.646484930093038e-06, weight decay:1.9522652616919153e-08\n",
      "val acc:0.07 | lr:6.791313829267557e-05, weight decay:1.3428181731889746e-07\n",
      "val acc:0.1 | lr:1.3288100168472369e-05, weight decay:2.1739005591513248e-05\n",
      "val acc:0.13 | lr:9.705343011048996e-05, weight decay:5.2611388320127926e-05\n",
      "val acc:0.12 | lr:1.2079303453410812e-05, weight decay:1.1127604245614512e-05\n",
      "val acc:0.52 | lr:0.003617784662602995, weight decay:3.2318347107621633e-06\n",
      "val acc:0.09 | lr:0.00010495489220742801, weight decay:1.5750424158171e-08\n",
      "val acc:0.03 | lr:0.00010575130726401657, weight decay:3.077616305293218e-05\n",
      "val acc:0.06 | lr:5.092169576131784e-06, weight decay:2.167249415564526e-06\n",
      "val acc:0.08 | lr:2.044165292192055e-06, weight decay:1.0672794290028875e-08\n",
      "val acc:0.14 | lr:0.00045506073912261405, weight decay:1.1003563221374294e-06\n",
      "val acc:0.16 | lr:1.1453187001053779e-05, weight decay:2.823643630872268e-08\n",
      "val acc:0.24 | lr:0.0015244510234660679, weight decay:1.6037856969411164e-05\n",
      "val acc:0.08 | lr:0.00011738734226556938, weight decay:3.7680724989629345e-06\n",
      "val acc:0.08 | lr:0.00024816668204121275, weight decay:2.7251898751614377e-06\n",
      "val acc:0.1 | lr:3.7414070455770305e-06, weight decay:5.280284926136841e-07\n",
      "val acc:0.43 | lr:0.0035913529929854342, weight decay:1.7203428407415684e-08\n",
      "val acc:0.65 | lr:0.006092020976781348, weight decay:4.971787798768427e-05\n",
      "val acc:0.18 | lr:5.712464376588057e-05, weight decay:3.4086852923737035e-05\n",
      "val acc:0.17 | lr:0.0007746229624389442, weight decay:2.6648575560619224e-08\n",
      "val acc:0.07 | lr:0.00012712987725943886, weight decay:2.9958147019679304e-06\n",
      "val acc:0.14 | lr:0.00027349536706573215, weight decay:4.8277053083920315e-08\n",
      "val acc:0.76 | lr:0.00872850714645355, weight decay:1.2386460125763146e-07\n",
      "val acc:0.12 | lr:3.1863777605648828e-06, weight decay:1.262556654892267e-07\n",
      "val acc:0.14 | lr:7.115554406435936e-06, weight decay:1.23632818702472e-08\n",
      "val acc:0.08 | lr:0.000181528264740507, weight decay:1.994414709807188e-06\n",
      "val acc:0.1 | lr:0.00034984709916327424, weight decay:1.688537883136088e-07\n",
      "val acc:0.16 | lr:3.6988966883176177e-05, weight decay:1.378641834828626e-06\n",
      "val acc:0.11 | lr:6.287659679681631e-05, weight decay:3.0365426863196145e-05\n",
      "val acc:0.17 | lr:9.593366054346817e-05, weight decay:8.583713965932764e-07\n",
      "val acc:0.11 | lr:0.00045833082399535633, weight decay:7.139446041286703e-06\n",
      "val acc:0.1 | lr:0.0005328127415371659, weight decay:5.9311608985208014e-05\n",
      "val acc:0.16 | lr:1.9132302743603684e-05, weight decay:2.969299707836522e-08\n",
      "val acc:0.07 | lr:1.1071843278533573e-06, weight decay:4.78227343872066e-05\n",
      "val acc:0.08 | lr:4.6233439446097935e-05, weight decay:2.032995047047673e-05\n",
      "val acc:0.13 | lr:3.17780782232946e-05, weight decay:2.857266841145056e-08\n",
      "val acc:0.15 | lr:0.0008013533796238243, weight decay:5.109229270061324e-07\n",
      "val acc:0.13 | lr:5.284003511094889e-05, weight decay:6.762995483829583e-06\n",
      "val acc:0.17 | lr:0.00043302541624021224, weight decay:1.0065792012104347e-07\n",
      "val acc:0.17 | lr:1.4126521983999839e-06, weight decay:1.3714175150953458e-08\n",
      "val acc:0.38 | lr:0.003935478696426108, weight decay:3.838321854346311e-06\n",
      "val acc:0.35 | lr:0.002521788947378468, weight decay:4.947683683731709e-06\n",
      "val acc:0.11 | lr:2.3503779148100136e-05, weight decay:4.303011247333211e-08\n",
      "val acc:0.14 | lr:0.0002955434483377911, weight decay:8.602911362972924e-07\n",
      "val acc:0.24 | lr:0.001347998008669452, weight decay:1.5853828330517525e-05\n",
      "val acc:0.09 | lr:2.2716554004728106e-06, weight decay:3.392691360251141e-08\n",
      "val acc:0.26 | lr:0.0020312283219521624, weight decay:1.3814696678690726e-08\n",
      "val acc:0.51 | lr:0.0037115560027983, weight decay:7.435959648498031e-08\n",
      "val acc:0.11 | lr:3.363711001888188e-06, weight decay:5.7982978676582336e-06\n",
      "val acc:0.22 | lr:0.0030643371320468165, weight decay:1.5624843836317536e-08\n",
      "val acc:0.39 | lr:0.0022754862792663407, weight decay:6.204679597075846e-05\n",
      "val acc:0.57 | lr:0.006378288872148663, weight decay:9.749680787703323e-08\n",
      "val acc:0.14 | lr:0.0001734428070501434, weight decay:4.497933950207037e-05\n",
      "val acc:0.12 | lr:1.4541484817043569e-05, weight decay:2.192688807960417e-05\n",
      "val acc:0.11 | lr:0.0001129969201192994, weight decay:9.6495927916942e-07\n",
      "val acc:0.07 | lr:3.1043586000085676e-05, weight decay:2.9799815843739123e-08\n",
      "val acc:0.2 | lr:0.0008148103135559926, weight decay:1.506016683695767e-05\n",
      "val acc:0.03 | lr:1.6501501153416702e-05, weight decay:4.133711590151356e-08\n",
      "val acc:0.17 | lr:0.0009038155694307092, weight decay:3.729266295231658e-07\n",
      "val acc:0.06 | lr:7.353374862871975e-05, weight decay:8.375925858077205e-06\n",
      "val acc:0.77 | lr:0.009784690520533167, weight decay:4.279710156191453e-06\n",
      "val acc:0.15 | lr:1.2896831867824722e-06, weight decay:4.255337840479662e-06\n",
      "val acc:0.43 | lr:0.003398311777978988, weight decay:3.942288611494487e-05\n",
      "val acc:0.11 | lr:0.0002334190211397432, weight decay:1.0448852543507075e-07\n",
      "val acc:0.1 | lr:1.645766297346203e-06, weight decay:5.163563681737987e-06\n",
      "val acc:0.29 | lr:0.0019203325221940361, weight decay:3.790249653750195e-08\n",
      "val acc:0.08 | lr:2.8971022008611992e-05, weight decay:9.270380813071015e-05\n",
      "val acc:0.09 | lr:0.0003110937430555765, weight decay:7.738077694107229e-05\n",
      "val acc:0.07 | lr:2.824559869657969e-05, weight decay:2.2856929807900142e-08\n",
      "val acc:0.1 | lr:4.232326038139744e-06, weight decay:3.014710794649042e-08\n",
      "val acc:0.63 | lr:0.005820022372052608, weight decay:5.28573157921368e-07\n",
      "val acc:0.06 | lr:0.00022105385925661445, weight decay:2.0718774535098686e-07\n",
      "val acc:0.11 | lr:1.1041743258515306e-06, weight decay:9.587459048236032e-05\n",
      "val acc:0.1 | lr:1.7330808056541203e-06, weight decay:2.3543294402018155e-06\n",
      "val acc:0.08 | lr:1.0229089666629055e-05, weight decay:6.195474923172005e-08\n"
     ]
    }
   ],
   "source": [
    "# ハイパーパラメータのランダム探索======================================\n",
    "optimization_trial = 100\n",
    "results_val = {}\n",
    "results_train = {}\n",
    "for _ in range(optimization_trial):\n",
    "    # 探索したハイパーパラメータの範囲を指定===============\n",
    "    weight_decay = 10 ** np.random.uniform(-8, -4)\n",
    "    lr = 10 ** np.random.uniform(-6, -2)\n",
    "    # ================================================\n",
    "\n",
    "    val_acc_list, train_acc_list = __train(lr, weight_decay)\n",
    "    print(\"val acc:\" + str(val_acc_list[-1]) + \" | lr:\" + str(lr) + \", weight decay:\" + str(weight_decay))\n",
    "    key = \"lr:\" + str(lr) + \", weight decay:\" + str(weight_decay)\n",
    "    results_val[key] = val_acc_list\n",
    "    results_train[key] = train_acc_list"
   ]
  },
  {
   "cell_type": "code",
   "execution_count": 16,
   "metadata": {},
   "outputs": [
    {
     "name": "stdout",
     "output_type": "stream",
     "text": [
      "=========== Hyper-Parameter Optimization Result ===========\n",
      "Best-1(val acc:0.81) | lr:0.009289572967553431, weight decay:1.740763692341469e-06\n",
      "Best-2(val acc:0.77) | lr:0.007614525932290578, weight decay:1.4977903571667184e-08\n",
      "Best-3(val acc:0.77) | lr:0.009784690520533167, weight decay:4.279710156191453e-06\n",
      "Best-4(val acc:0.76) | lr:0.0098758642485949, weight decay:4.452301939546693e-08\n",
      "Best-5(val acc:0.76) | lr:0.00872850714645355, weight decay:1.2386460125763146e-07\n",
      "Best-6(val acc:0.65) | lr:0.006092020976781348, weight decay:4.971787798768427e-05\n",
      "Best-7(val acc:0.63) | lr:0.005820022372052608, weight decay:5.28573157921368e-07\n",
      "Best-8(val acc:0.57) | lr:0.006378288872148663, weight decay:9.749680787703323e-08\n",
      "Best-9(val acc:0.55) | lr:0.004692012035862498, weight decay:4.933629704785935e-06\n",
      "Best-10(val acc:0.52) | lr:0.003617784662602995, weight decay:3.2318347107621633e-06\n",
      "Best-11(val acc:0.51) | lr:0.0037115560027983, weight decay:7.435959648498031e-08\n",
      "Best-12(val acc:0.44) | lr:0.0021854756522117665, weight decay:7.638878938008736e-08\n",
      "Best-13(val acc:0.43) | lr:0.0035913529929854342, weight decay:1.7203428407415684e-08\n",
      "Best-14(val acc:0.43) | lr:0.003398311777978988, weight decay:3.942288611494487e-05\n",
      "Best-15(val acc:0.39) | lr:0.0022754862792663407, weight decay:6.204679597075846e-05\n",
      "Best-16(val acc:0.38) | lr:0.003935478696426108, weight decay:3.838321854346311e-06\n",
      "Best-17(val acc:0.35) | lr:0.002521788947378468, weight decay:4.947683683731709e-06\n",
      "Best-18(val acc:0.29) | lr:0.0019203325221940361, weight decay:3.790249653750195e-08\n",
      "Best-19(val acc:0.26) | lr:0.0020312283219521624, weight decay:1.3814696678690726e-08\n",
      "Best-20(val acc:0.24) | lr:0.0015244510234660679, weight decay:1.6037856969411164e-05\n"
     ]
    },
    {
     "data": {
      "image/png": "[encoded data removed]",
      "text/plain": [
       "<Figure size 432x288 with 20 Axes>"
      ]
     },
     "metadata": {
      "needs_background": "light"
     },
     "output_type": "display_data"
    }
   ],
   "source": [
    "# グラフの描画========================================================\n",
    "print(\"=========== Hyper-Parameter Optimization Result ===========\")\n",
    "graph_draw_num = 20\n",
    "col_num = 5\n",
    "row_num = int(np.ceil(graph_draw_num / col_num))\n",
    "i = 0\n",
    "\n",
    "#精度が高い順に並べる\n",
    "#val_acc_listの最後の要素＝精度をlambda式で返してソートを行う、reverse=Trueで降順（高いから低い精度順）に並べる\n",
    "for key, val_acc_list in sorted(results_val.items(), key=lambda x:x[1][-1], reverse=True):\n",
    "    print(\"Best-\" + str(i+1) + \"(val acc:\" + str(val_acc_list[-1]) + \") | \" + key)\n",
    "\n",
    "    #行列方向に何枚図を並べるか決め、何番目に描画するか示す\n",
    "    plt.subplot(row_num, col_num, i+1)\n",
    "    plt.title(\"Best-\" + str(i+1))\n",
    "    plt.ylim(0.0, 1.0)\n",
    "    #5枚に一つだけy軸のメモリをつける\n",
    "    if i % 5: plt.yticks([])\n",
    "    plt.xticks([])\n",
    "    x = np.arange(len(val_acc_list))\n",
    "    plt.plot(x, val_acc_list)\n",
    "    plt.plot(x, results_train[key], \"--\")\n",
    "    i += 1\n",
    "\n",
    "    if i >= graph_draw_num:\n",
    "        break\n",
    "\n",
    "plt.show()"
   ]
  },
  {
   "cell_type": "code",
   "execution_count": null,
   "metadata": {},
   "outputs": [],
   "source": []
  }
 ],
 "metadata": {
  "kernelspec": {
   "display_name": "Python 3",
   "language": "python",
   "name": "python3"
  },
  "language_info": {
   "codemirror_mode": {
    "name": "ipython",
    "version": 3
   },
   "file_extension": ".py",
   "mimetype": "text/x-python",
   "name": "python",
   "nbconvert_exporter": "python",
   "pygments_lexer": "ipython3",
   "version": "3.7.4"
  }
 },
 "nbformat": 4,
 "nbformat_minor": 4
}
