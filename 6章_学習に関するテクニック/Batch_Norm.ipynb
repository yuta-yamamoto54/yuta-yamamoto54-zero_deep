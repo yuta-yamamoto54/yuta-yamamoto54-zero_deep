{
 "cells": [
  {
   "cell_type": "markdown",
   "metadata": {},
   "source": [
    "MNISTを用いたバッチノーマライゼーションの評価"
   ]
  },
  {
   "cell_type": "code",
   "execution_count": 1,
   "metadata": {},
   "outputs": [],
   "source": [
    "# coding: utf-8\n",
    "import sys, os\n",
    "sys.path.append(os.pardir)  # 親ディレクトリのファイルをインポートするための設定\n",
    "import numpy as np\n",
    "import matplotlib.pyplot as plt\n",
    "from dataset.mnist import load_mnist\n",
    "from common.multi_layer_net_extend import MultiLayerNetExtend\n",
    "from common.optimizer import SGD, Adam"
   ]
  },
  {
   "cell_type": "code",
   "execution_count": 2,
   "metadata": {},
   "outputs": [],
   "source": [
    "(x_train, t_train), (x_test, t_test) = load_mnist(normalize=True)\n",
    "\n",
    "# 学習データを削減\n",
    "x_train = x_train[:1000]\n",
    "t_train = t_train[:1000]\n",
    "\n",
    "max_epochs = 20\n",
    "train_size = x_train.shape[0]\n",
    "batch_size = 100\n",
    "learning_rate = 0.01"
   ]
  },
  {
   "cell_type": "code",
   "execution_count": 3,
   "metadata": {},
   "outputs": [],
   "source": [
    "def __train(weight_init_std):\n",
    "    #バッチノルムを有効に\n",
    "    bn_network = MultiLayerNetExtend(input_size=784, hidden_size_list=[100, 100, 100, 100, 100], output_size=10, \n",
    "                                    weight_init_std=weight_init_std, use_batchnorm=True)\n",
    "    network = MultiLayerNetExtend(input_size=784, hidden_size_list=[100, 100, 100, 100, 100], output_size=10,\n",
    "                                weight_init_std=weight_init_std)\n",
    "    optimizer = SGD(lr=learning_rate)\n",
    "    \n",
    "    train_acc_list = []\n",
    "    bn_train_acc_list = []\n",
    "    \n",
    "    iter_per_epoch = max(train_size / batch_size, 1)\n",
    "    epoch_cnt = 0\n",
    "    \n",
    "    for i in range(1000000000):\n",
    "        batch_mask = np.random.choice(train_size, batch_size)\n",
    "        x_batch = x_train[batch_mask]\n",
    "        t_batch = t_train[batch_mask]\n",
    "    \n",
    "        for _network in (bn_network, network):\n",
    "            #勾配の計算\n",
    "            grads = _network.gradient(x_batch, t_batch)\n",
    "            #重みの最適化と更新\n",
    "            optimizer.update(_network.params, grads)\n",
    "    \n",
    "        if i % iter_per_epoch == 0:\n",
    "            train_acc = network.accuracy(x_train, t_train)\n",
    "            bn_train_acc = bn_network.accuracy(x_train, t_train)\n",
    "            train_acc_list.append(train_acc)\n",
    "            bn_train_acc_list.append(bn_train_acc)\n",
    "    \n",
    "            print(\"epoch:\" + str(epoch_cnt) + \" | \" + str(train_acc) + \" - \" + str(bn_train_acc))\n",
    "    \n",
    "            epoch_cnt += 1\n",
    "            if epoch_cnt >= max_epochs:\n",
    "                break\n",
    "                \n",
    "    return train_acc_list, bn_train_acc_list"
   ]
  },
  {
   "cell_type": "code",
   "execution_count": 4,
   "metadata": {},
   "outputs": [
    {
     "name": "stdout",
     "output_type": "stream",
     "text": [
      "============== 1/16 ==============\n",
      "epoch:0 | 0.117 - 0.101\n",
      "epoch:1 | 0.097 - 0.106\n"
     ]
    },
    {
     "name": "stderr",
     "output_type": "stream",
     "text": [
      "..\\common\\functions.py:34: RuntimeWarning: invalid value encountered in subtract\n",
      "  x = x - np.max(x, axis=0)\n",
      "..\\common\\layers.py:12: RuntimeWarning: invalid value encountered in less_equal\n",
      "  self.mask = (x <= 0)\n"
     ]
    },
    {
     "name": "stdout",
     "output_type": "stream",
     "text": [
      "epoch:2 | 0.097 - 0.109\n",
      "epoch:3 | 0.097 - 0.149\n",
      "epoch:4 | 0.097 - 0.176\n",
      "epoch:5 | 0.097 - 0.197\n",
      "epoch:6 | 0.097 - 0.212\n",
      "epoch:7 | 0.097 - 0.243\n",
      "epoch:8 | 0.097 - 0.258\n",
      "epoch:9 | 0.097 - 0.272\n",
      "epoch:10 | 0.097 - 0.288\n",
      "epoch:11 | 0.097 - 0.293\n",
      "epoch:12 | 0.097 - 0.311\n",
      "epoch:13 | 0.097 - 0.328\n",
      "epoch:14 | 0.097 - 0.345\n",
      "epoch:15 | 0.097 - 0.356\n",
      "epoch:16 | 0.097 - 0.369\n"
     ]
    },
    {
     "name": "stderr",
     "output_type": "stream",
     "text": [
      "No handles with labels found to put in legend.\n"
     ]
    },
    {
     "name": "stdout",
     "output_type": "stream",
     "text": [
      "epoch:17 | 0.097 - 0.379\n",
      "epoch:18 | 0.097 - 0.4\n",
      "epoch:19 | 0.097 - 0.399\n",
      "============== 2/16 ==============\n",
      "epoch:0 | 0.1 - 0.095\n"
     ]
    },
    {
     "name": "stderr",
     "output_type": "stream",
     "text": [
      "..\\common\\multi_layer_net_extend.py:101: RuntimeWarning: overflow encountered in square\n",
      "  weight_decay += 0.5 * self.weight_decay_lambda * np.sum(W**2)\n",
      "..\\common\\multi_layer_net_extend.py:101: RuntimeWarning: invalid value encountered in double_scalars\n",
      "  weight_decay += 0.5 * self.weight_decay_lambda * np.sum(W**2)\n"
     ]
    },
    {
     "name": "stdout",
     "output_type": "stream",
     "text": [
      "epoch:1 | 0.093 - 0.091\n",
      "epoch:2 | 0.097 - 0.112\n",
      "epoch:3 | 0.097 - 0.13\n",
      "epoch:4 | 0.097 - 0.15\n",
      "epoch:5 | 0.097 - 0.171\n",
      "epoch:6 | 0.097 - 0.19\n",
      "epoch:7 | 0.097 - 0.214\n",
      "epoch:8 | 0.097 - 0.23\n",
      "epoch:9 | 0.097 - 0.259\n",
      "epoch:10 | 0.097 - 0.291\n",
      "epoch:11 | 0.097 - 0.315\n",
      "epoch:12 | 0.097 - 0.332\n",
      "epoch:13 | 0.097 - 0.356\n",
      "epoch:14 | 0.097 - 0.365\n",
      "epoch:15 | 0.097 - 0.385\n",
      "epoch:16 | 0.097 - 0.411\n",
      "epoch:17 | 0.097 - 0.426\n",
      "epoch:18 | 0.097 - 0.443\n"
     ]
    },
    {
     "name": "stderr",
     "output_type": "stream",
     "text": [
      "No handles with labels found to put in legend.\n"
     ]
    },
    {
     "name": "stdout",
     "output_type": "stream",
     "text": [
      "epoch:19 | 0.097 - 0.456\n",
      "============== 3/16 ==============\n",
      "epoch:0 | 0.109 - 0.141\n",
      "epoch:1 | 0.27 - 0.164\n",
      "epoch:2 | 0.462 - 0.195\n",
      "epoch:3 | 0.56 - 0.237\n",
      "epoch:4 | 0.642 - 0.279\n",
      "epoch:5 | 0.697 - 0.308\n",
      "epoch:6 | 0.728 - 0.332\n",
      "epoch:7 | 0.793 - 0.37\n",
      "epoch:8 | 0.81 - 0.4\n",
      "epoch:9 | 0.848 - 0.414\n",
      "epoch:10 | 0.868 - 0.455\n",
      "epoch:11 | 0.9 - 0.471\n",
      "epoch:12 | 0.921 - 0.497\n",
      "epoch:13 | 0.929 - 0.528\n",
      "epoch:14 | 0.933 - 0.544\n",
      "epoch:15 | 0.947 - 0.559\n",
      "epoch:16 | 0.95 - 0.585\n",
      "epoch:17 | 0.963 - 0.608\n",
      "epoch:18 | 0.968 - 0.626\n",
      "epoch:19 | 0.977 - 0.648\n"
     ]
    },
    {
     "name": "stderr",
     "output_type": "stream",
     "text": [
      "No handles with labels found to put in legend.\n"
     ]
    },
    {
     "name": "stdout",
     "output_type": "stream",
     "text": [
      "============== 4/16 ==============\n",
      "epoch:0 | 0.088 - 0.091\n",
      "epoch:1 | 0.232 - 0.146\n",
      "epoch:2 | 0.327 - 0.238\n",
      "epoch:3 | 0.426 - 0.313\n",
      "epoch:4 | 0.507 - 0.381\n",
      "epoch:5 | 0.596 - 0.429\n",
      "epoch:6 | 0.651 - 0.487\n",
      "epoch:7 | 0.693 - 0.523\n",
      "epoch:8 | 0.716 - 0.561\n",
      "epoch:9 | 0.748 - 0.598\n",
      "epoch:10 | 0.761 - 0.626\n",
      "epoch:11 | 0.757 - 0.653\n",
      "epoch:12 | 0.795 - 0.664\n",
      "epoch:13 | 0.815 - 0.688\n",
      "epoch:14 | 0.811 - 0.713\n",
      "epoch:15 | 0.827 - 0.728\n",
      "epoch:16 | 0.84 - 0.743\n",
      "epoch:17 | 0.842 - 0.75\n",
      "epoch:18 | 0.86 - 0.765\n"
     ]
    },
    {
     "name": "stderr",
     "output_type": "stream",
     "text": [
      "No handles with labels found to put in legend.\n"
     ]
    },
    {
     "name": "stdout",
     "output_type": "stream",
     "text": [
      "epoch:19 | 0.852 - 0.777\n",
      "============== 5/16 ==============\n",
      "epoch:0 | 0.07 - 0.072\n",
      "epoch:1 | 0.083 - 0.13\n",
      "epoch:2 | 0.093 - 0.298\n",
      "epoch:3 | 0.109 - 0.41\n",
      "epoch:4 | 0.121 - 0.493\n",
      "epoch:5 | 0.124 - 0.534\n",
      "epoch:6 | 0.13 - 0.581\n",
      "epoch:7 | 0.14 - 0.625\n",
      "epoch:8 | 0.143 - 0.661\n",
      "epoch:9 | 0.153 - 0.689\n",
      "epoch:10 | 0.156 - 0.72\n",
      "epoch:11 | 0.168 - 0.749\n",
      "epoch:12 | 0.186 - 0.77\n",
      "epoch:13 | 0.202 - 0.777\n",
      "epoch:14 | 0.217 - 0.798\n",
      "epoch:15 | 0.214 - 0.813\n",
      "epoch:16 | 0.228 - 0.826\n",
      "epoch:17 | 0.25 - 0.839\n"
     ]
    },
    {
     "name": "stderr",
     "output_type": "stream",
     "text": [
      "No handles with labels found to put in legend.\n"
     ]
    },
    {
     "name": "stdout",
     "output_type": "stream",
     "text": [
      "epoch:18 | 0.276 - 0.848\n",
      "epoch:19 | 0.291 - 0.859\n",
      "============== 6/16 ==============\n",
      "epoch:0 | 0.095 - 0.091\n",
      "epoch:1 | 0.093 - 0.175\n",
      "epoch:2 | 0.1 - 0.434\n",
      "epoch:3 | 0.089 - 0.635\n",
      "epoch:4 | 0.098 - 0.715\n",
      "epoch:5 | 0.093 - 0.775\n",
      "epoch:6 | 0.101 - 0.805\n",
      "epoch:7 | 0.115 - 0.822\n",
      "epoch:8 | 0.117 - 0.843\n",
      "epoch:9 | 0.116 - 0.862\n",
      "epoch:10 | 0.122 - 0.882\n",
      "epoch:11 | 0.126 - 0.894\n",
      "epoch:12 | 0.117 - 0.906\n",
      "epoch:13 | 0.117 - 0.916\n",
      "epoch:14 | 0.139 - 0.924\n",
      "epoch:15 | 0.139 - 0.935\n",
      "epoch:16 | 0.128 - 0.94\n",
      "epoch:17 | 0.116 - 0.942\n",
      "epoch:18 | 0.116 - 0.95\n"
     ]
    },
    {
     "name": "stderr",
     "output_type": "stream",
     "text": [
      "No handles with labels found to put in legend.\n"
     ]
    },
    {
     "name": "stdout",
     "output_type": "stream",
     "text": [
      "epoch:19 | 0.116 - 0.953\n",
      "============== 7/16 ==============\n",
      "epoch:0 | 0.1 - 0.12\n",
      "epoch:1 | 0.1 - 0.271\n",
      "epoch:2 | 0.117 - 0.545\n",
      "epoch:3 | 0.117 - 0.664\n",
      "epoch:4 | 0.117 - 0.735\n",
      "epoch:5 | 0.117 - 0.779\n",
      "epoch:6 | 0.117 - 0.82\n",
      "epoch:7 | 0.117 - 0.85\n",
      "epoch:8 | 0.117 - 0.869\n",
      "epoch:9 | 0.117 - 0.891\n",
      "epoch:10 | 0.117 - 0.919\n",
      "epoch:11 | 0.117 - 0.927\n",
      "epoch:12 | 0.117 - 0.949\n",
      "epoch:13 | 0.117 - 0.96\n",
      "epoch:14 | 0.117 - 0.967\n",
      "epoch:15 | 0.116 - 0.975\n",
      "epoch:16 | 0.138 - 0.979\n",
      "epoch:17 | 0.117 - 0.982\n",
      "epoch:18 | 0.117 - 0.987\n"
     ]
    },
    {
     "name": "stderr",
     "output_type": "stream",
     "text": [
      "No handles with labels found to put in legend.\n"
     ]
    },
    {
     "name": "stdout",
     "output_type": "stream",
     "text": [
      "epoch:19 | 0.117 - 0.987\n",
      "============== 8/16 ==============\n",
      "epoch:0 | 0.099 - 0.093\n",
      "epoch:1 | 0.117 - 0.391\n",
      "epoch:2 | 0.117 - 0.678\n",
      "epoch:3 | 0.117 - 0.772\n",
      "epoch:4 | 0.117 - 0.823\n",
      "epoch:5 | 0.116 - 0.88\n",
      "epoch:6 | 0.117 - 0.921\n",
      "epoch:7 | 0.117 - 0.95\n",
      "epoch:8 | 0.117 - 0.95\n",
      "epoch:9 | 0.117 - 0.966\n",
      "epoch:10 | 0.117 - 0.978\n",
      "epoch:11 | 0.116 - 0.987\n",
      "epoch:12 | 0.116 - 0.988\n",
      "epoch:13 | 0.116 - 0.991\n",
      "epoch:14 | 0.116 - 0.992\n",
      "epoch:15 | 0.116 - 0.995\n",
      "epoch:16 | 0.117 - 0.997\n"
     ]
    },
    {
     "name": "stderr",
     "output_type": "stream",
     "text": [
      "No handles with labels found to put in legend.\n"
     ]
    },
    {
     "name": "stdout",
     "output_type": "stream",
     "text": [
      "epoch:17 | 0.117 - 0.997\n",
      "epoch:18 | 0.117 - 0.997\n",
      "epoch:19 | 0.117 - 0.998\n",
      "============== 9/16 ==============\n",
      "epoch:0 | 0.117 - 0.071\n",
      "epoch:1 | 0.116 - 0.448\n",
      "epoch:2 | 0.116 - 0.766\n",
      "epoch:3 | 0.116 - 0.872\n",
      "epoch:4 | 0.116 - 0.92\n",
      "epoch:5 | 0.116 - 0.946\n",
      "epoch:6 | 0.116 - 0.966\n",
      "epoch:7 | 0.117 - 0.982\n",
      "epoch:8 | 0.117 - 0.984\n",
      "epoch:9 | 0.117 - 0.992\n",
      "epoch:10 | 0.117 - 0.997\n",
      "epoch:11 | 0.117 - 0.998\n",
      "epoch:12 | 0.117 - 0.998\n",
      "epoch:13 | 0.117 - 0.999\n",
      "epoch:14 | 0.117 - 1.0\n",
      "epoch:15 | 0.117 - 1.0\n",
      "epoch:16 | 0.117 - 1.0\n",
      "epoch:17 | 0.117 - 1.0\n"
     ]
    },
    {
     "name": "stderr",
     "output_type": "stream",
     "text": [
      "No handles with labels found to put in legend.\n"
     ]
    },
    {
     "name": "stdout",
     "output_type": "stream",
     "text": [
      "epoch:18 | 0.117 - 1.0\n",
      "epoch:19 | 0.116 - 1.0\n",
      "============== 10/16 ==============\n",
      "epoch:0 | 0.094 - 0.16\n",
      "epoch:1 | 0.117 - 0.61\n",
      "epoch:2 | 0.117 - 0.779\n",
      "epoch:3 | 0.117 - 0.852\n",
      "epoch:4 | 0.117 - 0.852\n",
      "epoch:5 | 0.117 - 0.911\n",
      "epoch:6 | 0.117 - 0.965\n",
      "epoch:7 | 0.117 - 0.961\n",
      "epoch:8 | 0.117 - 0.986\n",
      "epoch:9 | 0.117 - 0.978\n",
      "epoch:10 | 0.117 - 0.993\n",
      "epoch:11 | 0.117 - 0.996\n",
      "epoch:12 | 0.117 - 0.992\n",
      "epoch:13 | 0.117 - 0.997\n",
      "epoch:14 | 0.117 - 0.998\n",
      "epoch:15 | 0.117 - 0.998\n",
      "epoch:16 | 0.117 - 0.998\n",
      "epoch:17 | 0.117 - 0.998\n",
      "epoch:18 | 0.117 - 0.998\n"
     ]
    },
    {
     "name": "stderr",
     "output_type": "stream",
     "text": [
      "No handles with labels found to put in legend.\n"
     ]
    },
    {
     "name": "stdout",
     "output_type": "stream",
     "text": [
      "epoch:19 | 0.117 - 0.998\n",
      "============== 11/16 ==============\n",
      "epoch:0 | 0.093 - 0.11\n",
      "epoch:1 | 0.117 - 0.56\n",
      "epoch:2 | 0.117 - 0.697\n",
      "epoch:3 | 0.117 - 0.721\n",
      "epoch:4 | 0.117 - 0.719\n",
      "epoch:5 | 0.117 - 0.847\n",
      "epoch:6 | 0.117 - 0.836\n",
      "epoch:7 | 0.117 - 0.834\n",
      "epoch:8 | 0.117 - 0.885\n",
      "epoch:9 | 0.117 - 0.857\n",
      "epoch:10 | 0.116 - 0.894\n",
      "epoch:11 | 0.116 - 0.894\n",
      "epoch:12 | 0.116 - 0.986\n",
      "epoch:13 | 0.116 - 0.937\n",
      "epoch:14 | 0.116 - 0.983\n",
      "epoch:15 | 0.116 - 0.984\n",
      "epoch:16 | 0.116 - 0.989\n",
      "epoch:17 | 0.116 - 0.993\n"
     ]
    },
    {
     "name": "stderr",
     "output_type": "stream",
     "text": [
      "No handles with labels found to put in legend.\n"
     ]
    },
    {
     "name": "stdout",
     "output_type": "stream",
     "text": [
      "epoch:18 | 0.116 - 0.996\n",
      "epoch:19 | 0.117 - 0.996\n",
      "============== 12/16 ==============\n",
      "epoch:0 | 0.105 - 0.122\n",
      "epoch:1 | 0.105 - 0.662\n",
      "epoch:2 | 0.117 - 0.735\n",
      "epoch:3 | 0.117 - 0.825\n",
      "epoch:4 | 0.117 - 0.841\n",
      "epoch:5 | 0.117 - 0.821\n",
      "epoch:6 | 0.117 - 0.852\n",
      "epoch:7 | 0.117 - 0.838\n",
      "epoch:8 | 0.117 - 0.884\n",
      "epoch:9 | 0.117 - 0.884\n",
      "epoch:10 | 0.117 - 0.979\n",
      "epoch:11 | 0.117 - 0.977\n",
      "epoch:12 | 0.117 - 0.987\n",
      "epoch:13 | 0.117 - 0.987\n",
      "epoch:14 | 0.117 - 0.988\n",
      "epoch:15 | 0.117 - 0.98\n",
      "epoch:16 | 0.117 - 0.992\n",
      "epoch:17 | 0.117 - 0.989\n",
      "epoch:18 | 0.117 - 0.993\n"
     ]
    },
    {
     "name": "stderr",
     "output_type": "stream",
     "text": [
      "No handles with labels found to put in legend.\n"
     ]
    },
    {
     "name": "stdout",
     "output_type": "stream",
     "text": [
      "epoch:19 | 0.117 - 0.993\n",
      "============== 13/16 ==============\n",
      "epoch:0 | 0.116 - 0.099\n",
      "epoch:1 | 0.116 - 0.468\n",
      "epoch:2 | 0.116 - 0.568\n",
      "epoch:3 | 0.117 - 0.471\n",
      "epoch:4 | 0.117 - 0.598\n",
      "epoch:5 | 0.117 - 0.604\n",
      "epoch:6 | 0.117 - 0.608\n",
      "epoch:7 | 0.117 - 0.613\n",
      "epoch:8 | 0.117 - 0.659\n",
      "epoch:9 | 0.117 - 0.635\n",
      "epoch:10 | 0.117 - 0.617\n",
      "epoch:11 | 0.117 - 0.693\n",
      "epoch:12 | 0.117 - 0.687\n",
      "epoch:13 | 0.117 - 0.684\n",
      "epoch:14 | 0.117 - 0.704\n",
      "epoch:15 | 0.117 - 0.723\n",
      "epoch:16 | 0.117 - 0.752\n"
     ]
    },
    {
     "name": "stderr",
     "output_type": "stream",
     "text": [
      "No handles with labels found to put in legend.\n"
     ]
    },
    {
     "name": "stdout",
     "output_type": "stream",
     "text": [
      "epoch:17 | 0.117 - 0.794\n",
      "epoch:18 | 0.117 - 0.789\n",
      "epoch:19 | 0.117 - 0.802\n",
      "============== 14/16 ==============\n",
      "epoch:0 | 0.116 - 0.116\n",
      "epoch:1 | 0.116 - 0.366\n",
      "epoch:2 | 0.116 - 0.398\n",
      "epoch:3 | 0.116 - 0.417\n",
      "epoch:4 | 0.116 - 0.427\n",
      "epoch:5 | 0.116 - 0.488\n",
      "epoch:6 | 0.116 - 0.491\n",
      "epoch:7 | 0.116 - 0.502\n",
      "epoch:8 | 0.116 - 0.509\n",
      "epoch:9 | 0.116 - 0.5\n",
      "epoch:10 | 0.116 - 0.516\n",
      "epoch:11 | 0.116 - 0.515\n",
      "epoch:12 | 0.116 - 0.5\n",
      "epoch:13 | 0.116 - 0.518\n",
      "epoch:14 | 0.116 - 0.515\n",
      "epoch:15 | 0.116 - 0.523\n",
      "epoch:16 | 0.116 - 0.514\n",
      "epoch:17 | 0.116 - 0.519\n"
     ]
    },
    {
     "name": "stderr",
     "output_type": "stream",
     "text": [
      "No handles with labels found to put in legend.\n"
     ]
    },
    {
     "name": "stdout",
     "output_type": "stream",
     "text": [
      "epoch:18 | 0.116 - 0.524\n",
      "epoch:19 | 0.116 - 0.494\n",
      "============== 15/16 ==============\n",
      "epoch:0 | 0.097 - 0.097\n",
      "epoch:1 | 0.116 - 0.296\n",
      "epoch:2 | 0.116 - 0.387\n",
      "epoch:3 | 0.117 - 0.39\n",
      "epoch:4 | 0.116 - 0.396\n",
      "epoch:5 | 0.116 - 0.401\n",
      "epoch:6 | 0.117 - 0.451\n",
      "epoch:7 | 0.116 - 0.396\n",
      "epoch:8 | 0.116 - 0.418\n",
      "epoch:9 | 0.116 - 0.418\n",
      "epoch:10 | 0.116 - 0.426\n",
      "epoch:11 | 0.116 - 0.412\n",
      "epoch:12 | 0.116 - 0.424\n",
      "epoch:13 | 0.116 - 0.423\n",
      "epoch:14 | 0.116 - 0.446\n",
      "epoch:15 | 0.116 - 0.443\n",
      "epoch:16 | 0.116 - 0.47\n",
      "epoch:17 | 0.116 - 0.476\n",
      "epoch:18 | 0.116 - 0.496\n"
     ]
    },
    {
     "name": "stderr",
     "output_type": "stream",
     "text": [
      "No handles with labels found to put in legend.\n"
     ]
    },
    {
     "name": "stdout",
     "output_type": "stream",
     "text": [
      "epoch:19 | 0.116 - 0.512\n",
      "============== 16/16 ==============\n",
      "epoch:0 | 0.116 - 0.185\n",
      "epoch:1 | 0.116 - 0.216\n",
      "epoch:2 | 0.116 - 0.214\n",
      "epoch:3 | 0.116 - 0.208\n",
      "epoch:4 | 0.116 - 0.31\n",
      "epoch:5 | 0.116 - 0.395\n",
      "epoch:6 | 0.116 - 0.382\n",
      "epoch:7 | 0.116 - 0.416\n",
      "epoch:8 | 0.116 - 0.425\n",
      "epoch:9 | 0.116 - 0.427\n",
      "epoch:10 | 0.116 - 0.411\n",
      "epoch:11 | 0.116 - 0.425\n",
      "epoch:12 | 0.116 - 0.452\n",
      "epoch:13 | 0.116 - 0.428\n",
      "epoch:14 | 0.116 - 0.449\n",
      "epoch:15 | 0.116 - 0.415\n",
      "epoch:16 | 0.116 - 0.327\n",
      "epoch:17 | 0.117 - 0.452\n",
      "epoch:18 | 0.116 - 0.524\n",
      "epoch:19 | 0.117 - 0.515\n"
     ]
    },
    {
     "data": {
      "image/png": "[encoded data removed]",
      "text/plain": [
       "<Figure size 432x288 with 16 Axes>"
      ]
     },
     "metadata": {
      "needs_background": "light"
     },
     "output_type": "display_data"
    }
   ],
   "source": [
    "# 3.グラフの描画==========\n",
    "#ログスケールに均等な配列を生成する \n",
    "#重みの\n",
    "weight_scale_list = np.logspace(0, -4, num=16)\n",
    "x = np.arange(max_epochs)\n",
    "#インデックス番号、要素の順に取得\n",
    "for i, w in enumerate(weight_scale_list):\n",
    "    print( \"============== \" + str(i+1) + \"/16\" + \" ==============\")\n",
    "    train_acc_list, bn_train_acc_list = __train(w)\n",
    "    \n",
    "    plt.subplot(4,4,i+1)\n",
    "    plt.title(\"W:\" + str(w))\n",
    "    if i == 15:\n",
    "        plt.plot(x, bn_train_acc_list, label='Batch Normalization', markevery=2)\n",
    "        plt.plot(x, train_acc_list, linestyle = \"--\", label='Normal(without BatchNorm)', markevery=2)\n",
    "    else:\n",
    "        plt.plot(x, bn_train_acc_list, markevery=2)\n",
    "        plt.plot(x, train_acc_list, linestyle=\"--\", markevery=2)\n",
    "\n",
    "    plt.ylim(0, 1.0)\n",
    "    if i % 4:\n",
    "        plt.yticks([])\n",
    "    else:\n",
    "        plt.ylabel(\"accuracy\")\n",
    "    if i < 12:\n",
    "        plt.xticks([])\n",
    "    else:\n",
    "        plt.xlabel(\"epochs\")\n",
    "    plt.legend(loc='lower right')\n",
    "    \n",
    "plt.show()"
   ]
  },
  {
   "cell_type": "code",
   "execution_count": null,
   "metadata": {},
   "outputs": [],
   "source": []
  }
 ],
 "metadata": {
  "kernelspec": {
   "display_name": "Python 3",
   "language": "python",
   "name": "python3"
  },
  "language_info": {
   "codemirror_mode": {
    "name": "ipython",
    "version": 3
   },
   "file_extension": ".py",
   "mimetype": "text/x-python",
   "name": "python",
   "nbconvert_exporter": "python",
   "pygments_lexer": "ipython3",
   "version": "3.7.4"
  }
 },
 "nbformat": 4,
 "nbformat_minor": 4
}
