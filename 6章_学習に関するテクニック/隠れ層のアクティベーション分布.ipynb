{
 "cells": [
  {
   "cell_type": "markdown",
   "metadata": {},
   "source": [
    "乱数データを入力したときのアクティベーション（活性化関数の後の出力データ）の分布"
   ]
  },
  {
   "cell_type": "code",
   "execution_count": 100,
   "metadata": {},
   "outputs": [],
   "source": [
    "# coding: utf-8\n",
    "import numpy as np\n",
    "import matplotlib.pyplot as plt"
   ]
  },
  {
   "cell_type": "code",
   "execution_count": 101,
   "metadata": {},
   "outputs": [],
   "source": [
    "def sigmoid(x):\n",
    "    return 1 / (1 + np.exp(-x))"
   ]
  },
  {
   "cell_type": "code",
   "execution_count": 102,
   "metadata": {},
   "outputs": [],
   "source": [
    "def ReLU(x):\n",
    "    return np.maximum(0, x)"
   ]
  },
  {
   "cell_type": "code",
   "execution_count": 103,
   "metadata": {},
   "outputs": [],
   "source": [
    "def tanh(x):\n",
    "    return np.tanh(x)"
   ]
  },
  {
   "cell_type": "code",
   "execution_count": 104,
   "metadata": {},
   "outputs": [],
   "source": [
    "#1000*100の配列\n",
    "input_data = np.random.randn(1000, 100)  # 1000個のデータ\n",
    "node_num = 100  # 各隠れ層のノード（ニューロン）の数\n",
    "hidden_layer_size = 5  # 隠れ層が5層\n",
    "activations = {}  # ここにアクティベーションの結果を格納する"
   ]
  },
  {
   "cell_type": "code",
   "execution_count": 105,
   "metadata": {},
   "outputs": [],
   "source": [
    "x = input_data"
   ]
  },
  {
   "cell_type": "code",
   "execution_count": 106,
   "metadata": {},
   "outputs": [
    {
     "data": {
      "image/png": "[encoded data removed]",
      "text/plain": [
       "<Figure size 432x288 with 5 Axes>"
      ]
     },
     "metadata": {
      "needs_background": "light"
     },
     "output_type": "display_data"
    }
   ],
   "source": [
    "for i in range(hidden_layer_size):\n",
    "    if i != 0:\n",
    "        x = activations[i-1]\n",
    "\n",
    "    # 初期値の値をいろいろ変えて実験しよう！\n",
    "    # w = np.random.randn(node_num, node_num) * 1\n",
    "    # w = np.random.randn(node_num, node_num) * 0.01\n",
    "    # w = np.random.randn(node_num, node_num) * np.sqrt(1.0 / node_num)\n",
    "    w = np.random.randn(node_num, node_num) * np.sqrt(2.0 / node_num)\n",
    "\n",
    "\n",
    "    a = np.dot(x, w)\n",
    "\n",
    "    # 活性化関数の種類も変えて実験しよう！\n",
    "    # z = sigmoid(a)\n",
    "    z = ReLU(a)\n",
    "    # z = tanh(a)\n",
    "\n",
    "    activations[i] = z\n",
    "\n",
    "# ヒストグラムを描画\n",
    "# iはforを一つずつ上がって、ニューロンの値がaに入る\n",
    "for i, a in activations.items():\n",
    "    plt.subplot(1, len(activations), i+1)\n",
    "    plt.title(str(i+1) + \"-layer\")\n",
    "    #i=0以外のy軸をなくす\n",
    "    if i != 0: plt.yticks([], [])\n",
    "    plt.xlim(0.1, 1)\n",
    "    plt.ylim(0, 7000)\n",
    "    #https://pythondatascience.plavox.info/matplotlib/%E3%83%92%E3%82%B9%E3%83%88%E3%82%B0%E3%83%A9%E3%83%A0\n",
    "    plt.hist(a.flatten(), 30, range=(0,1))\n",
    "plt.show()"
   ]
  },
  {
   "cell_type": "code",
   "execution_count": 107,
   "metadata": {},
   "outputs": [],
   "source": [
    "# coding: utf-8\n",
    "import os\n",
    "import sys"
   ]
  },
  {
   "cell_type": "code",
   "execution_count": 108,
   "metadata": {},
   "outputs": [],
   "source": [
    "sys.path.append(os.pardir)  # 親ディレクトリのファイルをインポートするための設定\n",
    "import numpy as np\n",
    "import matplotlib.pyplot as plt\n",
    "from dataset.mnist import load_mnist\n",
    "from common.util import smooth_curve\n",
    "from common.multi_layer_net import MultiLayerNet\n",
    "from common.optimizer import SGD"
   ]
  },
  {
   "cell_type": "code",
   "execution_count": 109,
   "metadata": {},
   "outputs": [],
   "source": [
    "# 0:MNISTデータの読み込み==========\n",
    "(x_train, t_train), (x_test, t_test) = load_mnist(normalize=True)\n",
    "\n",
    "train_size = x_train.shape[0]\n",
    "batch_size = 128\n",
    "max_iterations = 2000"
   ]
  },
  {
   "cell_type": "code",
   "execution_count": 110,
   "metadata": {},
   "outputs": [],
   "source": [
    "# 1:実験の設定==========\n",
    "weight_init_types = {'std=0.01': 0.01, 'Xavier': 'sigmoid', 'He': 'relu'}\n",
    "optimizer = SGD(lr=0.01)\n",
    "\n",
    "networks = {}\n",
    "train_loss = {}\n",
    "for key, weight_type in weight_init_types.items():\n",
    "    networks[key] = MultiLayerNet(input_size=784, hidden_size_list=[100, 100, 100, 100],\n",
    "                                  output_size=10, weight_init_std=weight_type)\n",
    "    train_loss[key] = []"
   ]
  },
  {
   "cell_type": "code",
   "execution_count": 111,
   "metadata": {},
   "outputs": [
    {
     "name": "stdout",
     "output_type": "stream",
     "text": [
      "===========iteration:0===========\n",
      "std=0.01:2.302491309971016\n",
      "Xavier:2.315505874637675\n",
      "He:2.369499529982992\n",
      "===========iteration:100===========\n",
      "std=0.01:2.302065376308585\n",
      "Xavier:2.254577051100723\n",
      "He:1.776846658521059\n",
      "===========iteration:200===========\n",
      "std=0.01:2.30041688497185\n",
      "Xavier:2.13955399960415\n",
      "He:0.9515563491590562\n",
      "===========iteration:300===========\n",
      "std=0.01:2.301915204524576\n",
      "Xavier:1.8037527360035521\n",
      "He:0.6400134597045466\n",
      "===========iteration:400===========\n",
      "std=0.01:2.300154566464906\n",
      "Xavier:1.3546702001556454\n",
      "He:0.4922779727009533\n",
      "===========iteration:500===========\n",
      "std=0.01:2.2982229677086785\n",
      "Xavier:0.8305288400868909\n",
      "He:0.3425148935940866\n",
      "===========iteration:600===========\n",
      "std=0.01:2.3041737101949806\n",
      "Xavier:0.6746866386019601\n",
      "He:0.39966640340336335\n",
      "===========iteration:700===========\n",
      "std=0.01:2.2990432850208524\n",
      "Xavier:0.5140350213714564\n",
      "He:0.298814403255389\n",
      "===========iteration:800===========\n",
      "std=0.01:2.3045175104762494\n",
      "Xavier:0.6309270290375772\n",
      "He:0.41864284338968016\n",
      "===========iteration:900===========\n",
      "std=0.01:2.2939827279546745\n",
      "Xavier:0.30760369039935626\n",
      "He:0.2189885745315801\n",
      "===========iteration:1000===========\n",
      "std=0.01:2.301249467164822\n",
      "Xavier:0.3701894965931334\n",
      "He:0.25793065074659816\n",
      "===========iteration:1100===========\n",
      "std=0.01:2.300363151066466\n",
      "Xavier:0.39782500473277016\n",
      "He:0.2890235199870125\n",
      "===========iteration:1200===========\n",
      "std=0.01:2.3016009167810036\n",
      "Xavier:0.28937956839190493\n",
      "He:0.18908738747533865\n",
      "===========iteration:1300===========\n",
      "std=0.01:2.305284015064875\n",
      "Xavier:0.3823015279856795\n",
      "He:0.3249145734020722\n",
      "===========iteration:1400===========\n",
      "std=0.01:2.2999181218340796\n",
      "Xavier:0.40800726908347945\n",
      "He:0.38217020702291327\n",
      "===========iteration:1500===========\n",
      "std=0.01:2.2995581635689395\n",
      "Xavier:0.5571434491075147\n",
      "He:0.4173305852734978\n",
      "===========iteration:1600===========\n",
      "std=0.01:2.3038620304501998\n",
      "Xavier:0.41690429969561393\n",
      "He:0.3248038657933727\n",
      "===========iteration:1700===========\n",
      "std=0.01:2.3059028157559744\n",
      "Xavier:0.42301578530232226\n",
      "He:0.3201808872836985\n",
      "===========iteration:1800===========\n",
      "std=0.01:2.29550833414402\n",
      "Xavier:0.3281860803862571\n",
      "He:0.26996962817026615\n",
      "===========iteration:1900===========\n",
      "std=0.01:2.3065470936119676\n",
      "Xavier:0.20956435128268924\n",
      "He:0.13515025941255507\n"
     ]
    }
   ],
   "source": [
    "# 2:訓練の開始==========\n",
    "for i in range(max_iterations):\n",
    "    batch_mask = np.random.choice(train_size, batch_size)\n",
    "    x_batch = x_train[batch_mask]\n",
    "    t_batch = t_train[batch_mask]\n",
    "    \n",
    "    for key in weight_init_types.keys():\n",
    "        #勾配の計算\n",
    "        grads = networks[key].gradient(x_batch, t_batch)\n",
    "        #重みの最適化\n",
    "        optimizer.update(networks[key].params, grads)\n",
    "        \n",
    "        #損失関数の計算\n",
    "        loss = networks[key].loss(x_batch, t_batch)\n",
    "        train_loss[key].append(loss)\n",
    "    \n",
    "    if i % 100 == 0:\n",
    "        print(\"===========\" + \"iteration:\" + str(i) + \"===========\")\n",
    "        for key in weight_init_types.keys():\n",
    "            loss = networks[key].loss(x_batch, t_batch)\n",
    "            print(key + \":\" + str(loss))"
   ]
  },
  {
   "cell_type": "code",
   "execution_count": 112,
   "metadata": {},
   "outputs": [
    {
     "data": {
      "image/png": "[encoded data removed]",
      "text/plain": [
       "<Figure size 432x288 with 1 Axes>"
      ]
     },
     "metadata": {
      "needs_background": "light"
     },
     "output_type": "display_data"
    }
   ],
   "source": [
    "# 3.グラフの描画==========\n",
    "markers = {'std=0.01': 'o', 'Xavier': 's', 'He': 'D'}\n",
    "x = np.arange(max_iterations)\n",
    "for key in weight_init_types.keys():\n",
    "    plt.plot(x, smooth_curve(train_loss[key]), marker=markers[key], markevery=100, label=key)\n",
    "plt.xlabel(\"iterations\")\n",
    "plt.ylabel(\"loss\")\n",
    "plt.ylim(0, 2.5)\n",
    "plt.legend()\n",
    "plt.show()"
   ]
  },
  {
   "cell_type": "code",
   "execution_count": null,
   "metadata": {},
   "outputs": [],
   "source": []
  }
 ],
 "metadata": {
  "kernelspec": {
   "display_name": "Python 3",
   "language": "python",
   "name": "python3"
  },
  "language_info": {
   "codemirror_mode": {
    "name": "ipython",
    "version": 3
   },
   "file_extension": ".py",
   "mimetype": "text/x-python",
   "name": "python",
   "nbconvert_exporter": "python",
   "pygments_lexer": "ipython3",
   "version": "3.7.4"
  }
 },
 "nbformat": 4,
 "nbformat_minor": 4
}
